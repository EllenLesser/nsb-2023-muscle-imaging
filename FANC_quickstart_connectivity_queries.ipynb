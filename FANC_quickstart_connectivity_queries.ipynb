{
 "cells": [
  {
   "attachments": {},
   "cell_type": "markdown",
   "metadata": {},
   "source": [
    "# Quickstart guide to querying the FANC dataset\n",
    "FANC (*F*emale *A*dult *N*erve *C*ord, pronounced \"fancy\") is a 3d volume of the fly ventral nerve cord (VNC) imaged at synapse-level resolution.\\\n",
    "This guide is adapted from https://github.com/htem/FANC_auto_recon/blob/main/example_notebooks/FANC_Connectomics_General_Intro.ipynb to be more focused on ns&b 2023 neurons and less about 3d visualizations\n",
    "\n",
    "This demo guide works on one computer, but if you want to set it up to use on your own see the following documentation:\\\n",
    "To explore the EM dataset, you need a caveclient token (see https://caveclient.readthedocs.io/en/latest/guide/authentication.html) \\\n",
    "To get verified as part of the FANC community see https://github.com/htem/FANC_auto_recon/wiki#collaborative-community \\\n",
    "You can explore just the 3d reconstructions of neurons without a token (see https://github.com/tuthill-lab/Lesser_Azevedo_2023/blob/main/plot_from_pkl.ipynb to get started)"
   ]
  },
  {
   "cell_type": "code",
   "execution_count": null,
   "metadata": {},
   "outputs": [],
   "source": [
    "## import packages\n",
    "import pandas as pd\n",
    "import numpy as np\n",
    "from matplotlib import pyplot,patches\n",
    "import matplotlib.pyplot as plt\n",
    "import seaborn as sns\n",
    "import os\n",
    "\n",
    "from caveclient import CAVEclient # EM specific\n",
    "import json # for making links to neuroglancer views\n",
    "import utils # EL functions to clean up the notebook"
   ]
  },
  {
   "cell_type": "code",
   "execution_count": null,
   "metadata": {},
   "outputs": [],
   "source": [
    "# initialize access to the dataset - this step will be different when setting up on a new computer. see General Intro notebook above for info\n",
    "client = CAVEclient()\n",
    "datastack_name = 'fanc_production_mar2021'\n",
    "client = CAVEclient(datastack_name)"
   ]
  },
  {
   "cell_type": "markdown",
   "metadata": {},
   "source": [
    "## Annotation tables ##\n",
    "To keep track of neurons, individuals upload \"annotation tables\" to label cells of interest to them "
   ]
  },
  {
   "cell_type": "code",
   "execution_count": null,
   "metadata": {},
   "outputs": [],
   "source": [
    "## call in annotation tables as dataframes\n",
    "wingmotor_df = client.materialize.query_table('wing_motor_neuron_table_v0')\n",
    "neckmotor_df = client.materialize.query_table('neck_motor_neuron_table_v0')\n",
    "halteremotor_df = client.materialize.query_table('haltere_motor_neuron_table_v0')\n",
    "legmotor_df = client.materialize.query_table('all_leg_motor_neuron_table_v0')\n",
    "motor_df = pd.concat([wingmotor_df, neckmotor_df, halteremotor_df, legmotor_df]) # all motor dfs together \n",
    "\n",
    "premotor_df = client.materialize.query_table('wing_premotor_v4') # biased toward preMNs for the left side MNs\n",
    "sensory_df = client.materialize.query_table('nerve_bundle_fibers_v0') # this table is not very well maintained\n",
    "connective_df = client.materialize.query_table('neck_connective') # DN labels not included"
   ]
  },
  {
   "cell_type": "markdown",
   "metadata": {},
   "source": [
    "### Columns of the annotation tables: ###\n",
    "#### important columns ####\n",
    "pt_root_id: unique identifier for the neuron (all the voxels that make up a segment)\\\n",
    "classification_system & cell_type: can be different for each table, they're two columns for extra identifiers determined by the table-creator\\\n",
    "for the wing motor neurons table, classification system specifies the nerve and the side and cell type specifies the muscle innervated\n",
    "\n",
    "#### other columns ####\n",
    "id: unique id of each entry within a table\\\n",
    "created: utc timestamp of when entry was added\\\n",
    "superceded_id: versioning thing\\\n",
    "pt_position: xyz coordinate of the point dropped for that segment\n",
    "pt_supervoxel_id: unique identifier of the supervoxel at the xyz coordinate of the point dropped for that segment\\"
   ]
  },
  {
   "cell_type": "code",
   "execution_count": null,
   "metadata": {},
   "outputs": [],
   "source": [
    "## see the columns in a table\n",
    "wingmotor_df.head() \n"
   ]
  },
  {
   "cell_type": "code",
   "execution_count": null,
   "metadata": {},
   "outputs": [],
   "source": [
    "##  to see info about table, like who created it and how complete it is\n",
    "\n",
    "# tablename = 'neck_connective'\n",
    "# client.materialize.get_table_metadata('tablename')"
   ]
  },
  {
   "cell_type": "code",
   "execution_count": null,
   "metadata": {},
   "outputs": [],
   "source": [
    "# assign sign (excitatory or inhibitory) based on cell type\n",
    "premotor_df = utils.NT_labels(premotor_df)"
   ]
  },
  {
   "cell_type": "markdown",
   "metadata": {},
   "source": [
    "## Query synapses ## \n",
    "A table of all the predicted chemical synapses allows you to query upstream (presynaptic) or downstream (postsynaptic) of any cell.\\\n",
    "Using this script, you can identify the cells you want to query, whether to query upstream or downstream, and whether to constrain the connectivity to a particular cell type (e.g. only motor neurons downstream of the giant fiber)"
   ]
  },
  {
   "cell_type": "code",
   "execution_count": null,
   "metadata": {},
   "outputs": [],
   "source": [
    "## choose a group of neurons to query their connectivity\n",
    "## some possible neurons of interest - can add more\n",
    "# ignore Boolean Series error for now...\n",
    "\n",
    "DLMs = wingmotor_df.loc[wingmotor_df.cell_type.str.startswith('DLM')].pt_root_id.to_list() # DLMs 1 - 5\n",
    "giant_fiber = [648518346489801267,648518346487752404]\n",
    "desc_ant = [648518346488543822,648518346481626527]\n",
    "\n",
    "## 19B: 20748 & 20754\n",
    "ss19B = premotor_df[premotor_df.cell_type.isin(['19B'])].pt_root_id.to_list()\n",
    "a19B, b19B = utils.subtypes_19B()\n",
    "\n",
    "## 12B: 04728\n",
    "ss04728 = premotor_df[premotor_df.cell_type.isin(['12B'])].pt_root_id.to_list()\n",
    "## 12A: 48272\n",
    "ss48272 = premotor_df[premotor_df.cell_type.isin(['12A'])][premotor_df.classification_system.isin(['local'])].pt_root_id.to_list() # remove primaries\n",
    "## 3B/11B: 44002\n",
    "ss44002 = [648518346477643278,648518346489463916,648518346488942057,648518346517121573,648518346494564151,648518346475387572,648518346483562133,648518346481006938,648518346470436606,648518346499869580,648518346489648435]"
   ]
  },
  {
   "cell_type": "code",
   "execution_count": null,
   "metadata": {},
   "outputs": [],
   "source": [
    "query_neurons = ss44002\n",
    "#query_neurons = [648518346475398272, 648518346489364825, 648518346465967408, 648518346482131604, 648518346497623542, 648518346484712605, 648518346526231767, 648518346514160427, 648518346494205042, 648518346520298833]\n",
    "#query_neurons = a19B\n",
    "#query_neurons = ss44002\n",
    "\n",
    "## in the line below, change the term to \"post_ids\" or \"pre_ids\" depending on what you want to see\n",
    "## post_ids to query upstream, pre_ids to query downstream\n",
    "syn_df = client.materialize.synapse_query(pre_ids = query_neurons)\n"
   ]
  },
  {
   "cell_type": "code",
   "execution_count": null,
   "metadata": {},
   "outputs": [],
   "source": [
    "## constrain synapse dataframe\n",
    "# subset = wingmotor_df[premotor_df.sign.isin(['exc'])].pt_root_id.to_list()\n",
    "# subset = ss19B\n",
    "subset = motor_df.pt_root_id.to_list()\n",
    "\n",
    "## in the line below, change the term to \"post_pt_root_id\" or \"pre_pt_root_id\" depending on what you want to see\n",
    "## pre_pt_root_id to constrain upstream, post_pt_root_id to constrain downstream\n",
    "syn_df_filtered = syn_df[syn_df.post_pt_root_id.isin(subset)]"
   ]
  },
  {
   "cell_type": "code",
   "execution_count": null,
   "metadata": {},
   "outputs": [],
   "source": [
    "## see the top synaptic partners - constrained to neurons that are annotated\n",
    "\n",
    "#### TOGGLE BETWEEN THE TWO LINES BELOW DEPENDING ON ABOVE QUERIES ####\n",
    "\n",
    "## to see downstream partners:\n",
    "labels_df = pd.DataFrame(syn_df_filtered.post_pt_root_id.value_counts().rename_axis('pt_root_id').reset_index(name='synapses')).merge(motor_df[['pt_root_id','classification_system','cell_type']],how = 'inner') \n",
    "# \n",
    "## to see upstream partners: \n",
    "#labels_df = pd.DataFrame(syn_df_filtered.post_pt_root_id.value_counts().rename_axis('pt_root_id').reset_index(name='synapses')).merge(premotor_df[['pt_root_id','classification_system','cell_type','sign']],how = 'inner') \n",
    "\n",
    "\n",
    "labels_df[0:10]"
   ]
  },
  {
   "cell_type": "code",
   "execution_count": null,
   "metadata": {},
   "outputs": [],
   "source": [
    "# Copy and paste the Segment IDs in the \"neuroglancer\" tab in the box on the right next to the '+'\n",
    "\n",
    "print('synaptic partners: {}'.format(labels_df.pt_root_id.to_list()[0:10]))\n",
    "\n",
    "print('queried neurons: {}'.format(query_neurons))"
   ]
  }
 ],
 "metadata": {
  "kernelspec": {
   "display_name": ".EM_env",
   "language": "python",
   "name": ".em_env"
  },
  "language_info": {
   "codemirror_mode": {
    "name": "ipython",
    "version": 3
   },
   "file_extension": ".py",
   "mimetype": "text/x-python",
   "name": "python",
   "nbconvert_exporter": "python",
   "pygments_lexer": "ipython3",
   "version": "3.11.4"
  }
 },
 "nbformat": 4,
 "nbformat_minor": 4
}
